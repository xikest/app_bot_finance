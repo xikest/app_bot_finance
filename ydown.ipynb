{
  "nbformat": 4,
  "nbformat_minor": 0,
  "metadata": {
    "colab": {
      "provenance": []
    },
    "kernelspec": {
      "name": "python3",
      "display_name": "Python 3"
    },
    "language_info": {
      "name": "python"
    }
  },
  "cells": [
    {
      "cell_type": "code",
      "source": [
        "!pip install yt_dlp"
      ],
      "metadata": {
        "colab": {
          "base_uri": "https://localhost:8080/"
        },
        "id": "z4T_UvSSS6me",
        "outputId": "176a5f74-bc6b-4ac5-8435-c6caa6a22979"
      },
      "execution_count": 4,
      "outputs": [
        {
          "output_type": "stream",
          "name": "stdout",
          "text": [
            "Collecting yt_dlp\n",
            "  Downloading yt_dlp-2025.1.15-py3-none-any.whl.metadata (172 kB)\n",
            "\u001b[2K     \u001b[90m━━━━━━━━━━━━━━━━━━━━━━━━━━━━━━━━━━━━━━━━\u001b[0m \u001b[32m172.2/172.2 kB\u001b[0m \u001b[31m3.8 MB/s\u001b[0m eta \u001b[36m0:00:00\u001b[0m\n",
            "\u001b[?25hDownloading yt_dlp-2025.1.15-py3-none-any.whl (3.2 MB)\n",
            "\u001b[2K   \u001b[90m━━━━━━━━━━━━━━━━━━━━━━━━━━━━━━━━━━━━━━━━\u001b[0m \u001b[32m3.2/3.2 MB\u001b[0m \u001b[31m47.4 MB/s\u001b[0m eta \u001b[36m0:00:00\u001b[0m\n",
            "\u001b[?25hInstalling collected packages: yt_dlp\n",
            "Successfully installed yt_dlp-2025.1.15\n"
          ]
        }
      ]
    },
    {
      "cell_type": "code",
      "source": [
        "import yt_dlp\n",
        "import os\n",
        "from google.colab import files\n",
        "\n",
        "\n",
        "class YTDownloader:\n",
        "    @staticmethod\n",
        "    def download_video(video_url: str, file_type: str = \"mp3\") -> str:\n",
        "        options = {\n",
        "            \"mp3\": {\n",
        "                \"format\": \"bestaudio/best\",\n",
        "                \"postprocessors\": [{\n",
        "                    \"key\": \"FFmpegExtractAudio\",\n",
        "                    \"preferredcodec\": \"mp3\",\n",
        "                    \"preferredquality\": \"192\"\n",
        "                    }],\n",
        "                \"ffmpeg_location\": \"/usr/bin/ffmpeg\",\n",
        "                \"outtmpl\": \"%(title)s.%(ext)s\"\n",
        "                    },\n",
        "            \"mp4\": {\n",
        "                \"format\": \"bestvideo+bestaudio/best\",\n",
        "                \"ffmpeg_location\": \"/usr/bin/ffmpeg\",\n",
        "                \"outtmpl\": \"%(title)s.%(ext)s\"\n",
        "                }\n",
        "            }\n",
        "\n",
        "        try:\n",
        "            with yt_dlp.YoutubeDL(options[file_type]) as ydl:\n",
        "                result = ydl.extract_info(video_url, download=True)\n",
        "                file_name = ydl.prepare_filename(result).replace(\".webm\", f\".{file_type}\")\n",
        "                return file_name\n",
        "        except Exception as e:\n",
        "            print(f\"Error: {e}\")\n",
        "            return None\n",
        "\n",
        "\n",
        "\n",
        "\n",
        "# 테스트 실행\n",
        "def down(url:str, file_type: str = \"mp3\"):\n",
        "    ytd = YTDownloader()\n",
        "    file_name = ytd.download_video(url, file_type)\n",
        "    if file_name:\n",
        "        # 다운로드가 성공하면 파일을 코랩에서 자동으로 다운로드\n",
        "        files.download(file_name)\n",
        "        return file_name\n",
        "    else:\n",
        "        return None\n"
      ],
      "metadata": {
        "id": "QM4YWR7JhKrK"
      },
      "execution_count": 11,
      "outputs": []
    },
    {
      "cell_type": "code",
      "source": [
        "\n",
        "url = \"https://www.youtube.com/watch?si=nDZbZWIEhE2wXHfU&v=vGX1XXPu9Lc&feature=youtu.be\"  # 유튜브 URL 입력\n",
        "\n"
      ],
      "metadata": {
        "id": "vFL5QNfo3NrV"
      },
      "execution_count": 12,
      "outputs": []
    },
    {
      "cell_type": "code",
      "source": [
        "down(url)"
      ],
      "metadata": {
        "colab": {
          "base_uri": "https://localhost:8080/",
          "height": 231
        },
        "id": "gF0gLuWU6Rh_",
        "outputId": "06aec980-c71d-46b7-a597-78ebb6eaa2c0"
      },
      "execution_count": 13,
      "outputs": [
        {
          "output_type": "stream",
          "name": "stdout",
          "text": [
            "[youtube] Extracting URL: https://www.youtube.com/watch?si=nDZbZWIEhE2wXHfU&v=vGX1XXPu9Lc&feature=youtu.be\n",
            "[youtube] vGX1XXPu9Lc: Downloading webpage\n",
            "[youtube] vGX1XXPu9Lc: Downloading tv player API JSON\n",
            "[youtube] vGX1XXPu9Lc: Downloading ios player API JSON\n",
            "[youtube] vGX1XXPu9Lc: Downloading player 6e1dd460\n",
            "[youtube] vGX1XXPu9Lc: Downloading m3u8 information\n",
            "[info] vGX1XXPu9Lc: Downloading 1 format(s): 251\n",
            "[download] Destination: 아쉬탕가 풀 프라이머리 구령 수업 (산스크리트 버전) - AshtangaYoga Full Primary Series LED class.webm\n",
            "[download] 100% of   82.62MiB in 00:00:03 at 20.72MiB/s  \n",
            "[ExtractAudio] Destination: 아쉬탕가 풀 프라이머리 구령 수업 (산스크리트 버전) - AshtangaYoga Full Primary Series LED class.mp3\n",
            "Deleting original file 아쉬탕가 풀 프라이머리 구령 수업 (산스크리트 버전) - AshtangaYoga Full Primary Series LED class.webm (pass -k to keep)\n"
          ]
        },
        {
          "output_type": "display_data",
          "data": {
            "text/plain": [
              "<IPython.core.display.Javascript object>"
            ],
            "application/javascript": [
              "\n",
              "    async function download(id, filename, size) {\n",
              "      if (!google.colab.kernel.accessAllowed) {\n",
              "        return;\n",
              "      }\n",
              "      const div = document.createElement('div');\n",
              "      const label = document.createElement('label');\n",
              "      label.textContent = `Downloading \"${filename}\": `;\n",
              "      div.appendChild(label);\n",
              "      const progress = document.createElement('progress');\n",
              "      progress.max = size;\n",
              "      div.appendChild(progress);\n",
              "      document.body.appendChild(div);\n",
              "\n",
              "      const buffers = [];\n",
              "      let downloaded = 0;\n",
              "\n",
              "      const channel = await google.colab.kernel.comms.open(id);\n",
              "      // Send a message to notify the kernel that we're ready.\n",
              "      channel.send({})\n",
              "\n",
              "      for await (const message of channel.messages) {\n",
              "        // Send a message to notify the kernel that we're ready.\n",
              "        channel.send({})\n",
              "        if (message.buffers) {\n",
              "          for (const buffer of message.buffers) {\n",
              "            buffers.push(buffer);\n",
              "            downloaded += buffer.byteLength;\n",
              "            progress.value = downloaded;\n",
              "          }\n",
              "        }\n",
              "      }\n",
              "      const blob = new Blob(buffers, {type: 'application/binary'});\n",
              "      const a = document.createElement('a');\n",
              "      a.href = window.URL.createObjectURL(blob);\n",
              "      a.download = filename;\n",
              "      div.appendChild(a);\n",
              "      a.click();\n",
              "      div.remove();\n",
              "    }\n",
              "  "
            ]
          },
          "metadata": {}
        },
        {
          "output_type": "display_data",
          "data": {
            "text/plain": [
              "<IPython.core.display.Javascript object>"
            ],
            "application/javascript": [
              "download(\"download_374fb4cf-9caf-4980-8738-b40516a8a2b2\", \"\\uc544\\uc26c\\ud0d5\\uac00 \\ud480 \\ud504\\ub77c\\uc774\\uba38\\ub9ac \\uad6c\\ub839 \\uc218\\uc5c5 (\\uc0b0\\uc2a4\\ud06c\\ub9ac\\ud2b8 \\ubc84\\uc804) - AshtangaYoga Full Primary Series LED class.mp3\", 128946861)"
            ]
          },
          "metadata": {}
        },
        {
          "output_type": "execute_result",
          "data": {
            "text/plain": [
              "'아쉬탕가 풀 프라이머리 구령 수업 (산스크리트 버전) - AshtangaYoga Full Primary Series LED class.mp3'"
            ],
            "application/vnd.google.colaboratory.intrinsic+json": {
              "type": "string"
            }
          },
          "metadata": {},
          "execution_count": 13
        }
      ]
    },
    {
      "cell_type": "code",
      "source": [],
      "metadata": {
        "id": "kjgZVbpnSp0e"
      },
      "execution_count": null,
      "outputs": []
    }
  ]
}