{
 "cells": [
  {
   "cell_type": "code",
   "execution_count": 32,
   "id": "b88fc791-da8d-4a29-9aee-a70fa1e9b993",
   "metadata": {},
   "outputs": [],
   "source": [
    "import openai"
   ]
  },
  {
   "cell_type": "markdown",
   "id": "66018905-1949-464d-a555-6c56d3dd69b6",
   "metadata": {},
   "source": [
    "## API 사용하기\n",
    "- ChatGPT API를 사용하려면 `creadit card` 등록이 되어 있어야 한다."
   ]
  },
  {
   "cell_type": "code",
   "execution_count": 41,
   "id": "70e761e2-3929-4411-9d98-572c6182be7a",
   "metadata": {},
   "outputs": [],
   "source": [
    "openai.api_key = \"ChatGPT_API_KEY\""
   ]
  },
  {
   "cell_type": "markdown",
   "id": "c6eb407a-0c4d-4665-bf72-8aae431f8da3",
   "metadata": {},
   "source": [
    "## 질문 하기: ChatCompletion.create"
   ]
  },
  {
   "cell_type": "markdown",
   "id": "ff316ee5-7569-463c-bc20-fc8e7c3f29a7",
   "metadata": {},
   "source": [
    "- `model`: 사용할 언어 모델 지정\n",
    "- `message`: 사용자가 입력할 프롬프트가 포함된 리스트.   \n",
    "  기본적인 질문 방법 `[{\"role\": \"user\", \"content\": \"프롬프트 입력}])`과 같이 사용\n",
    "- `temperture(0.0-2.0, 일반 범위는 0.5-1.5)`: 텍스트의 랜덤성(randomness)과 관련된 파라미터.  \n",
    "  온도가 높으면 사람의 예측에서 벗어나는 다양하고 창의적으로 보이는 답변 제공,  \n",
    "  반면 온도가 낮으면 전형적이고 보수적인 답변을하는 경향 있음\n",
    "- `top_p(0.0-1.0, 기본은 1.0)`: 다음 단어 또는 토큰이 샘플링 되는 범위를 제어.  \n",
    "  top_p를 0.5로 설정하면 샘플링 시, 누적 확률이 0.5보다 큰 상위 토큰에서 다음 토큰을 샘플링,  \n",
    "  top_p를 1.0로 설정하면 샘플링 시, 모든 토큰에서 다음 토큰을 샘플링,  \n",
    "  top_p를 0.0로 설정하면 샘플링 시, 가장 확률이 높음 토큰에서 다음 토큰을 샘플링\n",
    "- `presence_penalty(0.0-2.0, 기본은 0.0)`: 단어가 이미 생성된 텍스트에 나타난 경우 해당 단어가 등장할 가능성을 줄임.  \n",
    "  빈도수 패널티와 달리 과거 예측에서 단아거 나타나는 빈도수에 따라 달라지지 않음.  \n",
    "  이 파라미터 값을 크게 설정 할수록 모델이 새로운 주제에 대해 이야기할 가능성이 높아진다.(OpenAI의 설명에 따름)  \n",
    "- `frequency_penalty(0.0-2.0, 기본은 0.0)`: 모델이 동일한 단어를 반복적으로 생성하지 않도록 설정하는 값  \n",
    "- `n(기본은 1)`: 입력 메세지에 대해 생성할 답변의 수\n",
    "- `max_token (기본은 모델의 최대 토큰 수)`: 최대 토큰 수를 제한.\n",
    "  토큰수에 따라 API 사용 요금 부과 됨.\n",
    "- `stop`: 토큰 생성을 중지하는 문자 `stop=['\\n', 'end of text']와 같이 문자열 리스트로 설정.  \n",
    "  None으로 설정하면 중지 문자 설정을 하지 않고 답변을 끝까지 생성"
   ]
  },
  {
   "cell_type": "code",
   "execution_count": 35,
   "id": "b738f986-36c8-4098-b426-3d1338b50e44",
   "metadata": {},
   "outputs": [],
   "source": [
    "content = \"Why couldn't the Mongol Empire be like the Roman Empire?\"\n",
    "\n",
    "response = openai.ChatCompletion.create(\n",
    "    model=\"gpt-3.5-turbo\",\n",
    "    messages=[{\"role\": \"user\", \"content\": content}])"
   ]
  },
  {
   "cell_type": "markdown",
   "id": "8991088f-66ee-45eb-99c3-3a829ea6ba1d",
   "metadata": {},
   "source": [
    "## response\n",
    "\n",
    "- `choices`: 완료 개체 목록\n",
    "- `index`: 완료 객체의 인덱스\n",
    "- `message`: 모델에서 생성된 메세지 내용  \n",
    "  `content`는 답변 내용,\n",
    "  `role`은 질문시 지정한 역할\n",
    "- `created`: 요청한 시점의 타임스탬프\n",
    "- `object`: 반환된 객체의 유형\n",
    "  `ChatGPT`는 `chat.completion` 객체로 반환\n",
    "- `usage`: 질문할 때 사용한 토큰 수, 응답할 때 사용한 토큰 수, 총 사용한 토큰 수 제공"
   ]
  },
  {
   "cell_type": "code",
   "execution_count": 36,
   "id": "bb71b67b-adb3-431b-9acc-4ddd94ff3e79",
   "metadata": {},
   "outputs": [
    {
     "name": "stdout",
     "output_type": "stream",
     "text": [
      "{\n",
      "  \"id\": \"chatcmpl-8EuV37o0KbUaDBCbOHJ0HqSoRBffr\",\n",
      "  \"object\": \"chat.completion\",\n",
      "  \"created\": 1698564469,\n",
      "  \"model\": \"gpt-3.5-turbo-0613\",\n",
      "  \"choices\": [\n",
      "    {\n",
      "      \"index\": 0,\n",
      "      \"message\": {\n",
      "        \"role\": \"assistant\",\n",
      "        \"content\": \"There are several reasons why the Mongol Empire could not be like the Roman Empire:\\n\\n1. Geographical and cultural differences: The Mongol Empire was primarily located in the vast Eurasian steppe, while the Roman Empire was situated in the Mediterranean region. These varying geographical and cultural contexts resulted in different social, political, and economic systems.\\n\\n2. Administrative structure: The Roman Empire had a well-established administrative structure, with institutions such as the Senate, courts, and a well-organized bureaucracy. In contrast, the Mongol Empire relied largely on a decentralized system of administration, with power resting in the hands of individual Khanates and tribes.\\n\\n3. Governance style: The Roman Empire focused on assimilating conquered regions into its own culture and administration, often granting citizenship to inhabitants of conquered lands. The Mongol Empire, on the other hand, allowed conquered regions to maintain some autonomy as long as they paid tribute and remained loyal to the Mongol Khanate.\\n\\n4. Economic systems: The Roman Empire relied on a sophisticated agricultural economy, which supported a complex society with large urban areas. In contrast, the Mongol Empire relied heavily on pastoralism and nomadic lifestyles, leading to a more decentralized and less urbanized society.\\n\\n5. Cultural and intellectual development: The Roman Empire made significant contributions to art, architecture, literature, philosophy, and law which had a lasting impact on Western civilization. The Mongol Empire did not have the same cultural and intellectual development, primarily due to its nomadic lifestyle and focus on conquest.\\n\\n6. Longevity and legacy: The Roman Empire existed for over a millennium, leaving behind a rich legacy of legal, administrative, and cultural systems. Conversely, the Mongol Empire was relatively short-lived, lasting around 150 years, and its impact on subsequent societies was less enduring.\\n\\nOverall, while both empires were significant in their own right, they developed under different circumstances and had distinct characteristics that prevented the Mongol Empire from being similar to the Roman Empire.\"\n",
      "      },\n",
      "      \"finish_reason\": \"stop\"\n",
      "    }\n",
      "  ],\n",
      "  \"usage\": {\n",
      "    \"prompt_tokens\": 20,\n",
      "    \"completion_tokens\": 397,\n",
      "    \"total_tokens\": 417\n",
      "  }\n",
      "}\n"
     ]
    }
   ],
   "source": [
    "print(response)"
   ]
  },
  {
   "cell_type": "markdown",
   "id": "8dc1384b-a7a7-4575-b7af-392dfff65ef4",
   "metadata": {},
   "source": [
    "## 응답에서 답변만 추출"
   ]
  },
  {
   "cell_type": "code",
   "execution_count": 37,
   "id": "884bf457-5df7-494f-94b2-06a203177692",
   "metadata": {},
   "outputs": [
    {
     "name": "stdout",
     "output_type": "stream",
     "text": [
      "There are several reasons why the Mongol Empire could not be like the Roman Empire:\n",
      "\n",
      "1. Geographical and cultural differences: The Mongol Empire was primarily located in the vast Eurasian steppe, while the Roman Empire was situated in the Mediterranean region. These varying geographical and cultural contexts resulted in different social, political, and economic systems.\n",
      "\n",
      "2. Administrative structure: The Roman Empire had a well-established administrative structure, with institutions such as the Senate, courts, and a well-organized bureaucracy. In contrast, the Mongol Empire relied largely on a decentralized system of administration, with power resting in the hands of individual Khanates and tribes.\n",
      "\n",
      "3. Governance style: The Roman Empire focused on assimilating conquered regions into its own culture and administration, often granting citizenship to inhabitants of conquered lands. The Mongol Empire, on the other hand, allowed conquered regions to maintain some autonomy as long as they paid tribute and remained loyal to the Mongol Khanate.\n",
      "\n",
      "4. Economic systems: The Roman Empire relied on a sophisticated agricultural economy, which supported a complex society with large urban areas. In contrast, the Mongol Empire relied heavily on pastoralism and nomadic lifestyles, leading to a more decentralized and less urbanized society.\n",
      "\n",
      "5. Cultural and intellectual development: The Roman Empire made significant contributions to art, architecture, literature, philosophy, and law which had a lasting impact on Western civilization. The Mongol Empire did not have the same cultural and intellectual development, primarily due to its nomadic lifestyle and focus on conquest.\n",
      "\n",
      "6. Longevity and legacy: The Roman Empire existed for over a millennium, leaving behind a rich legacy of legal, administrative, and cultural systems. Conversely, the Mongol Empire was relatively short-lived, lasting around 150 years, and its impact on subsequent societies was less enduring.\n",
      "\n",
      "Overall, while both empires were significant in their own right, they developed under different circumstances and had distinct characteristics that prevented the Mongol Empire from being similar to the Roman Empire.\n"
     ]
    }
   ],
   "source": [
    "print(response['choices'][0]['message']['content'])"
   ]
  },
  {
   "cell_type": "markdown",
   "id": "665fd1d0-75bd-4716-8cb5-c94b20c00a7c",
   "metadata": {},
   "source": [
    "# 소모 토큰, 비용 확인"
   ]
  },
  {
   "cell_type": "code",
   "execution_count": 38,
   "id": "165bab02-e5a8-40f7-ae6d-c5f3502e600e",
   "metadata": {},
   "outputs": [
    {
     "name": "stdout",
     "output_type": "stream",
     "text": [
      "{\n",
      "  \"prompt_tokens\": 20,\n",
      "  \"completion_tokens\": 397,\n",
      "  \"total_tokens\": 417\n",
      "}\n"
     ]
    }
   ],
   "source": [
    "print(response['usage'])"
   ]
  },
  {
   "cell_type": "markdown",
   "id": "fc76df4b-2f66-4495-9621-853dcae66711",
   "metadata": {},
   "source": [
    "## 역할 부여하기\n",
    "`system`: system의 역할  \n",
    "`user`: user의 역할"
   ]
  },
  {
   "cell_type": "code",
   "execution_count": 40,
   "id": "277d7a68-0c47-4ca4-ade8-626405e0125d",
   "metadata": {},
   "outputs": [
    {
     "name": "stdout",
     "output_type": "stream",
     "text": [
      "Modern Monetary Theory (MMT)는 다양한 학자와 경제학자들이 개발한 이론이며, 특정 인물의 이론이 아닙니다. MMT는 현대 돈의 이해와 정부의 재정 정책에 대한 새로운 접근법을 제안하는 이론입니다. 이 이론은 기존의 재정 경제학 이론과 차별화되는 점을 가지고 있으며, 주로 린더퍼/외너의 이론, 워런 모슬러, 히스토린/리머 (Bill Mitchell, L. Randall Wray, Warren Mosler) 등 다양한 학자들의 연구를 바탕으로 발전되었습니다.\n"
     ]
    }
   ],
   "source": [
    "response = openai.ChatCompletion.create(\n",
    "    model = 'gpt-3.5-turbo',\n",
    "    messages = [\n",
    "        {'role': 'system', \"content\":\"너는 학계에 권위가 있는 역사학과 경제학의 명사야\"},\n",
    "        {'role': 'user', \"content\":\"Modern Moeny theory는 어느 시점에 나온 누구의 이론이야?\"}\n",
    "    ]\n",
    ")\n",
    "\n",
    "print(response['choices'][0]['message']['content'])"
   ]
  },
  {
   "cell_type": "markdown",
   "id": "c44716b4-3314-4a3c-abbc-3d3eeb5b7124",
   "metadata": {},
   "source": [
    "---"
   ]
  }
 ],
 "metadata": {
  "kernelspec": {
   "display_name": "Python 3 (ipykernel)",
   "language": "python",
   "name": "python3"
  },
  "language_info": {
   "codemirror_mode": {
    "name": "ipython",
    "version": 3
   },
   "file_extension": ".py",
   "mimetype": "text/x-python",
   "name": "python",
   "nbconvert_exporter": "python",
   "pygments_lexer": "ipython3",
   "version": "3.10.13"
  }
 },
 "nbformat": 4,
 "nbformat_minor": 5
}
